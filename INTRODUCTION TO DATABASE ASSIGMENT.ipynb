{
 "cells": [
  {
   "cell_type": "markdown",
   "id": "28046ef3-5a64-45b2-a9d3-5a0f21ea56fe",
   "metadata": {},
   "source": [
    "Q1 What is a database? explain with an example on why hould we need a database."
   ]
  },
  {
   "cell_type": "markdown",
   "id": "b306ab44-8fdd-49c4-bd64-e5a01c2f9851",
   "metadata": {},
   "source": [
    "# DATABASE ^_^\n",
    "\n",
    "* A Database is a Structured collection of Data that is organized in such way that allows us to modify,managed & Updated \n",
    "  It is like a Digital-filling cabinet where data is stored in Table,which consist Row & Column .\n",
    "  \n",
    "# TYPES OF DATABASES :\n",
    "* (i) Relation => MYSQL,ORACLE,MICROSOFT SQL SEVER,IBM DB2\n",
    "* (ii) Non-Relation => MONGODB,NeO4j,Apache HBASE,Amazon DyanmoDB\n",
    "\n",
    "* Example Why We Need a DataBase:-\n",
    "* Imagine im running A Running Online Store(like-Amazon,flipkart) I have infromation of my Product,Customer\n",
    "  Orders and Inventry.Without Database i want to save this information in seprate File and in Spreadsheet \n",
    "  which can Quickly Become messy and Diffcult to manage in my Bussiness Growth .\n",
    "  \n",
    "  \n",
    "  \n",
    "             \n",
    "             "
   ]
  },
  {
   "cell_type": "markdown",
   "id": "6442ed4e-f259-4267-85a2-af2fee4c220f",
   "metadata": {},
   "source": [
    "Q2. Write a short note on file based storage system. explain the major challenge of a file based storage system ."
   ]
  },
  {
   "cell_type": "markdown",
   "id": "ff7d037f-afa0-41c8-a464-6bf75bbafe49",
   "metadata": {},
   "source": [
    "# FILE BASED STORAGE SYSTEM(FBSS) ^_^\n",
    "\n",
    "* A File Based Storage system is a Traditional Approach to store a Data where infromation is organized and managed in \n",
    "  the Individual file ,typically stored in the file system.Each file contain data related to a specific entity or \n",
    "  type of information . These file can be Document , Spradsheet , image or any other digital content .\n",
    "  \n",
    "* one of the Most common File-Based storage system is hierarchical file system found in most OS.In this system files are\n",
    "  Organized into the Directories(File) which Can Contain a Subdirectoires and file . User interact with theses file and \n",
    "  Directories Through management utilites provided by the OS .\n",
    "  \n",
    "# MAJOR CHALLENGES OF FBSS :\n",
    "\n",
    "* (i) Data Redundancy:\n",
    "* (ii) Data Inconsistency:\n",
    "* (iii) Limited Data sharing:\n",
    "* (iv) Limited Data Integrity Constraints:\n",
    "* (v) Scalability Challenges:\n",
    "* (vi) Security "
   ]
  },
  {
   "cell_type": "markdown",
   "id": "a1e2e5f4-bfe8-4da7-bd96-858fcf211e08",
   "metadata": {},
   "source": [
    "Q3. What is DBMS? What was the need for DBMS?"
   ]
  },
  {
   "cell_type": "markdown",
   "id": "208852e8-477a-4b08-8744-5eb5ead1d7e1",
   "metadata": {},
   "source": [
    "# DATA BASE MANAGEMENT SYSTEM(DBMS) +_+\n",
    "\n",
    "* DataBase stand for DataBase management system . It's a Software system that Facilites the Creation,Maintenance and use\n",
    "  of Database . A DBMS provide a interface for users and Applicants to interact with Database,allowing them to Store &\n",
    "  retrieve,Update and manage the Data Efficiently .\n",
    "  \n",
    "  \n",
    "# NEED OF DBMS\n",
    "\n",
    "* Data Centralization:\n",
    "* Data Consistency and Integrity:\n",
    "* Data Security:\n",
    "* Concurrency Control:\n",
    "* Data Abstraction:\n",
    "* Data Independence:\n",
    "* Data Query and Analysis:"
   ]
  },
  {
   "cell_type": "markdown",
   "id": "5c907073-cc84-4da0-90cf-4da67996ef18",
   "metadata": {},
   "source": [
    "Q4. Explain 5 challenge of file-based Storage System which was Tackled by DBMS?"
   ]
  },
  {
   "cell_type": "markdown",
   "id": "773467f6-dafc-469a-8eab-832f88b350ec",
   "metadata": {},
   "source": [
    "* Data Redundancy and Inconsisty:\n",
    "* Data Dependency And Isolation:\n",
    "* Concurrency Control and Data Integrity:\n",
    "* Security and Access Control:\n",
    "* Scalability and Performance:"
   ]
  },
  {
   "cell_type": "markdown",
   "id": "42962af2-585a-4944-abf5-405ed77a6cf0",
   "metadata": {},
   "source": [
    "Q5. List Out the different type of classification in DBMS and Explain?\n"
   ]
  },
  {
   "cell_type": "markdown",
   "id": "082eaf92-976d-4a3a-b0b7-f07bfd273819",
   "metadata": {},
   "source": [
    "# BASED ON THE DATA MODEL :\n",
    "\n",
    "* Relational DBMS(RDBMS):- Like => MYSQL,ORACLE,SQL Server , Postgre SQL .\n",
    "* Hierarchical DBMS (HDBMS):- Like => IMS(Informratin System Management System) .\n",
    "* Network DBMS (NDBMS): Like => IDMS(Integrated Data Management System,CODASYL DBTG Model) . \n",
    "\n",
    "# BASED ON THE ARCHITECTURE :\n",
    "\n",
    "* Centralized DBMS :\n",
    "* Distributed DBMS (DDBMS):\n",
    "\n",
    "# BASED ON THE NUMBER OF USERS :\n",
    "\n",
    "* Single-user DBMS :\n",
    "* Multi-user DBMS :\n",
    "\n",
    "# BAESD ON THE USAGE :\n",
    "\n",
    "* Transactional DBMS (OLTP):\n",
    "* Analytical DBMS (OLAP):\n",
    "\n",
    "# BASED ON THE FUNCTIONALITY :\n",
    "\n",
    "* Object-oriented DBMS (OODBMS):\n",
    "* Document-oriented DBMS (Document Store):"
   ]
  },
  {
   "cell_type": "markdown",
   "id": "fcbacdb9-8f74-4d9d-9e0c-9916796a7be1",
   "metadata": {},
   "source": [
    "Q7. What is the significance of Data Modelling and explain the type of Data Modelling?"
   ]
  },
  {
   "cell_type": "markdown",
   "id": "156325d1-51f8-4b50-97f6-15cf98a1347c",
   "metadata": {},
   "source": [
    "# DATA MODELLING ^_^ \n",
    "\n",
    "* Data Modelling a Crucial aspect of database design and Management.It involves the Process of creating a Conceptual \n",
    "  Representation of Data Structure , Relationship and Properties to support Business reqirement.\n",
    "  \n",
    "# WHY DATA MODEL IS SIGNIFICANT :  \n",
    "\n",
    "* Organizational Understanding:\n",
    "* Consistency and Standardization:\n",
    "* Data Integrity:\n",
    "* Scalability and Performance:\n",
    "* Communication:\n",
    "\n",
    "# TYPES OF DATA MODELLING :-\n",
    "\n",
    "* Conceptual Data Model:\n",
    "* Logical Data Model:\n",
    "* Physical Data Model:\n",
    "* Dimensional Data Model: \n",
    "* Object-Oriented Data Model:"
   ]
  },
  {
   "cell_type": "markdown",
   "id": "efe127b5-1170-461c-97b5-4121eab55173",
   "metadata": {},
   "source": [
    "Q7. Explain 3 Schema architecture along with its advantages."
   ]
  },
  {
   "cell_type": "markdown",
   "id": "cf9e8b54-12d7-43d7-a70b-1c92d89759cf",
   "metadata": {},
   "source": [
    "# 3 SCHEMA ARCHITECTURE :-\n",
    "\n",
    "* The three Schema Architecture , also known as the ANSI/SPARC/ DBMS Model , is a Conceptual Framework that Seprate the\n",
    "  a Databases system into three Distinct Layer:The External Schema , The Conceptual Schema , The External Schema .\n",
    "  \n",
    "# EXTERNAL SCHEMA(View Level) :-\n",
    "\n",
    "* The External Schema Represent the Part of Database that is Visible To the Application Programs and End-User.\n",
    "* It Includes the Multilple External views , each Tailored to meet the Specific needs of Different User Groups \n",
    "  or Applications .\n",
    "* External Schema Provide the a Personalized and Simplified view of the Data,Hiding the Unnecessary Details And Complexity .   \n",
    "# ADVANTAGES :-\n",
    "\n",
    "* Data Independence : Changes to the External Schema do not affect the Conceptual or Internal Schemas , Providing the \n",
    "  a Level of data Independence . This means that Modifications to one External view Won't Disturb the views or the \n",
    "  Underlying Database Structure .\n",
    "  \n",
    "* Security : External schemas allow for access control mechanisms, enabling administrators to grant or restrict access to     specific data views based on user roles or privileges.  \n",
    "\n",
    "* Customization: Different users or applications can have their own customized view of the data, tailored to their specific   requirements, improving usability and productivity.\n",
    "\n",
    "\n",
    "# CONCEPTUAL SCHEMA(CONCEPTUAL LEVEL):\n",
    "\n",
    "* The conceptual schema represents the logical structure of the entire database as seen by the database administrator.\n",
    "* It defines the entities, their attributes, and the relationships between them, without specifying how the data is           physically stored.\n",
    "* The conceptual schema serves as an intermediate layer between the external and internal schemas, providing a global view     of the database structure.\n",
    "\n",
    "# ADVANTAGES :\n",
    "\n",
    "* Data Independence: Changes to the conceptual schema, such as modifications to the data model or restructuring of tables,     can be made without affecting the external views or the physical storage of data.\n",
    "\n",
    "* Database Design: The conceptual schema facilitates database design and management by providing a clear and abstract         representation of the data model, which can be easily understood and modified as requirements evolve.\n",
    "\n",
    "* Integration: It enables the integration of multiple external views into a unified and coherent database structure,           ensuring consistency and integrity of data across different applications and user interfaces.\n",
    "\n",
    "# INTERNAL SCHEMA(PHYSICAL LEVEL):\n",
    "\n",
    "* The internal schema represents the physical storage and organization of data within the database system.\n",
    "* It defines how the data is stored on disk, including details such as data storage structures, indexing mechanisms, and       access paths.\n",
    "* The internal schema is optimized for efficient data storage, retrieval, and manipulation, taking into account performance   and storage constraints.\n",
    "\n",
    "# ADVANTAGES :\n",
    "\n",
    "* Performance Optimization: The internal schema allows database administrators to optimize data storage and access methods     to improve performance, such as indexing and data compression techniques.\n",
    "\n",
    "* Security: It provides mechanisms for data security and integrity at the physical level, such as encryption, access           controls, and data backup strategies.\n",
    "\n",
    "* Resource Management: Database administrators can manage system resources more effectively by tuning the internal schema to   meet performance and scalability requirements, such as disk space allocation and memory management."
   ]
  },
  {
   "cell_type": "code",
   "execution_count": null,
   "id": "86b9ea0e-dec7-4ec6-8a2f-6b46c614c107",
   "metadata": {},
   "outputs": [],
   "source": []
  }
 ],
 "metadata": {
  "kernelspec": {
   "display_name": "Python 3 (ipykernel)",
   "language": "python",
   "name": "python3"
  },
  "language_info": {
   "codemirror_mode": {
    "name": "ipython",
    "version": 3
   },
   "file_extension": ".py",
   "mimetype": "text/x-python",
   "name": "python",
   "nbconvert_exporter": "python",
   "pygments_lexer": "ipython3",
   "version": "3.10.8"
  }
 },
 "nbformat": 4,
 "nbformat_minor": 5
}
